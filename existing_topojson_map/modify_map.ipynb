{
 "cells": [
  {
   "cell_type": "markdown",
   "metadata": {},
   "source": [
    "# Modifying existing TopoJSON file with Colombia's towns and departments\n",
    "\n",
    "This work started due to an interest for understanding the origin of a shape map in a Power BI dashboard. Unfortunately, I wasn't able to track down the creator of the Power BI dashboard that contained a shape map of Colombia's departments.\n",
    "\n",
    "I started a web search and found a TopoJSON file with Colombia's towns and departments in [John Guerra's Observable profile](https://observablehq.com/@john-guerra/topojson-colombia). I found another TopoJSON file with Colombia's towns and departments in [Javier Moreno' GitHub profile](https://github.com/finiterank/mapa-colombia-js). I decided to start my exploration with the former since it's a more recent file.\n",
    "\n",
    "Initially, my exploration was aimed at understanding what kind of information was contained in the TopoJSON file so that I could extract the information linked only to departments. I also used notepad++ to help me explore and understand the structure of the file. This notebook contains this exploratory work.\n",
    "\n",
    "Extracting the departments' info works. I use the created file `mapa_departamentos.json` in a Power BI dashboard and can see a map of Colombia with its departments.\n",
    "\n",
    "![dashboard](../images/dashboard_departments.png)\n",
    "\n",
    "Note San Andrés, Providencia and Santa Catalina (archipelago hereafter) are appropriately shown in scale and location. However, viz-wise, this could be improved. The Power BI dashboard that originated this work had the archipelago closer to mainland and larger. However, I didn't want to rely on replicating this Power BI dashboard file (plus the necessary edits to the dashboard and its source data to fit its new purpose) everytime I wanted a shape map of Colombia's departments. This led to a further exploration documented in the notebook `new_topojson_map/create_map.ipynb`."
   ]
  },
  {
   "cell_type": "markdown",
   "metadata": {},
   "source": [
    "## 1. Loading file"
   ]
  },
  {
   "cell_type": "code",
   "execution_count": 1,
   "metadata": {},
   "outputs": [],
   "source": [
    "import json\n",
    "\n",
    "json_file = 'Colombia_departamentos_municipios_poblacion-topov2.json'\n",
    "with open(json_file, 'r') as file:\n",
    "    map_json = json.load(file)"
   ]
  },
  {
   "cell_type": "markdown",
   "metadata": {},
   "source": [
    "## 2. Data exploration\n",
    "\n",
    "## objects\n",
    "\n",
    "The key $objects$ has a **dictionary** with the following two keys:\n",
    "\n",
    "- $MGN\\_ANM\\_MPIOS$\n",
    "- $MGN\\_ANM\\_DPTOS$\n",
    "\n",
    "Each key has a **dictionary** with the corresponding geometries. Let's focus on $MGN\\_ANM\\_DPTOS$, which corresponds to the deparments' key.\n",
    "\n",
    "### MGN_ANM_DPTOS\n",
    "\n",
    "The key $MGN\\_ANM\\_DPTOS$ has a **dictionary** with the following two keys:\n",
    "\n",
    "- $type$\n",
    "- $geometries$\n",
    "\n",
    "#### geometries\n",
    "\n",
    "The key $geometries$ has a **list** of *dictionaries*. Each dictionary contains the information of a department in the following three keys:\n",
    "\n",
    "- $arcs$\n",
    "- $type$\n",
    "- $properties$\n",
    "\n",
    "##### properties\n",
    "\n",
    "The key $properties$ has dictionary, where the code of a deparment is stored under the key $DPTO\\_CCDGO$. Let's explore this structure below."
   ]
  },
  {
   "cell_type": "code",
   "execution_count": 2,
   "metadata": {},
   "outputs": [
    {
     "data": {
      "text/plain": [
       "{'DPTO_CCDGO': '18',\n",
       " 'DPTO_CNMBR': 'CAQUETÁ',\n",
       " 'VERSION': 2018,\n",
       " 'AREA': 90103008160.2,\n",
       " 'LATITUD': 0.79855619489,\n",
       " 'LONGITUD': -73.9594675611,\n",
       " 'TSP16_HOG': 116166,\n",
       " 'STP27_PERS': 359602}"
      ]
     },
     "execution_count": 2,
     "metadata": {},
     "output_type": "execute_result"
    }
   ],
   "source": [
    "map_json['objects']['MGN_ANM_DPTOS']['geometries'][0]['properties']"
   ]
  },
  {
   "cell_type": "code",
   "execution_count": 3,
   "metadata": {},
   "outputs": [
    {
     "data": {
      "text/plain": [
       "'18'"
      ]
     },
     "execution_count": 3,
     "metadata": {},
     "output_type": "execute_result"
    }
   ],
   "source": [
    "map_json['objects']['MGN_ANM_DPTOS']['geometries'][0]['properties']['DPTO_CCDGO']"
   ]
  },
  {
   "cell_type": "code",
   "execution_count": 4,
   "metadata": {},
   "outputs": [
    {
     "data": {
      "text/plain": [
       "{'DPTO_CCDGO': '19',\n",
       " 'DPTO_CNMBR': 'CAUCA',\n",
       " 'VERSION': 2018,\n",
       " 'AREA': 31242914793,\n",
       " 'LATITUD': 2.39683388683,\n",
       " 'LONGITUD': -76.8242328283,\n",
       " 'TSP16_HOG': 432493,\n",
       " 'STP27_PERS': 1243503}"
      ]
     },
     "execution_count": 4,
     "metadata": {},
     "output_type": "execute_result"
    }
   ],
   "source": [
    "map_json['objects']['MGN_ANM_DPTOS']['geometries'][1]['properties']"
   ]
  },
  {
   "cell_type": "markdown",
   "metadata": {},
   "source": [
    "Let's loop..."
   ]
  },
  {
   "cell_type": "code",
   "execution_count": 5,
   "metadata": {},
   "outputs": [
    {
     "name": "stdout",
     "output_type": "stream",
     "text": [
      "{'DPTO_CCDGO': '18', 'DPTO_CNMBR': 'CAQUETÁ', 'VERSION': 2018, 'AREA': 90103008160.2, 'LATITUD': 0.79855619489, 'LONGITUD': -73.9594675611, 'TSP16_HOG': 116166, 'STP27_PERS': 359602}\n",
      "{'DPTO_CCDGO': '19', 'DPTO_CNMBR': 'CAUCA', 'VERSION': 2018, 'AREA': 31242914793, 'LATITUD': 2.39683388683, 'LONGITUD': -76.8242328283, 'TSP16_HOG': 432493, 'STP27_PERS': 1243503}\n",
      "{'DPTO_CCDGO': '86', 'DPTO_CNMBR': 'PUTUMAYO', 'VERSION': 2018, 'AREA': 25976283135, 'LATITUD': 0.45225996697, 'LONGITUD': -75.8559119498, 'TSP16_HOG': 107053, 'STP27_PERS': 283197}\n",
      "{'DPTO_CCDGO': '76', 'DPTO_CNMBR': 'VALLE DEL CAUCA', 'VERSION': 2018, 'AREA': 20665544524.7, 'LATITUD': 3.85885827935, 'LONGITUD': -76.5186942422, 'TSP16_HOG': 1267039, 'STP27_PERS': 3789874}\n",
      "{'DPTO_CCDGO': '94', 'DPTO_CNMBR': 'GUAINÍA', 'VERSION': 2018, 'AREA': 71289354481.1, 'LATITUD': 2.72784286544, 'LONGITUD': -68.8166127213, 'TSP16_HOG': 9953, 'STP27_PERS': 44431}\n",
      "{'DPTO_CCDGO': '99', 'DPTO_CNMBR': 'VICHADA', 'VERSION': 2018, 'AREA': 100063370591, 'LATITUD': 4.71355712472, 'LONGITUD': -69.4140001101, 'TSP16_HOG': 19162, 'STP27_PERS': 76642}\n",
      "{'DPTO_CCDGO': '85', 'DPTO_CNMBR': 'CASANARE', 'VERSION': 2018, 'AREA': 44394239773.9, 'LATITUD': 5.40406423669, 'LONGITUD': -71.6018807258, 'TSP16_HOG': 128130, 'STP27_PERS': 379892}\n",
      "{'DPTO_CCDGO': '91', 'DPTO_CNMBR': 'AMAZONAS', 'VERSION': 2018, 'AREA': 109497053795, 'LATITUD': -1.54622768014, 'LONGITUD': -71.5021285781, 'TSP16_HOG': 16290, 'STP27_PERS': 66056}\n",
      "{'DPTO_CCDGO': '97', 'DPTO_CNMBR': 'VAUPÉS', 'VERSION': 2018, 'AREA': 53299280014.9, 'LATITUD': 0.64624561025, 'LONGITUD': -70.5614056568, 'TSP16_HOG': 7020, 'STP27_PERS': 37690}\n",
      "{'DPTO_CCDGO': '95', 'DPTO_CNMBR': 'GUAVIARE', 'VERSION': 2018, 'AREA': 55575233165.5, 'LATITUD': 1.92453197347, 'LONGITUD': -72.1285956914, 'TSP16_HOG': 22817, 'STP27_PERS': 73081}\n",
      "{'DPTO_CCDGO': '17', 'DPTO_CNMBR': 'CALDAS', 'VERSION': 2018, 'AREA': 7425221672.25, 'LATITUD': 5.34206625112, 'LONGITUD': -75.3068785359, 'TSP16_HOG': 309680, 'STP27_PERS': 923472}\n",
      "{'DPTO_CCDGO': '63', 'DPTO_CNMBR': 'QUINDIO', 'VERSION': 2018, 'AREA': 1933570846.6, 'LATITUD': 4.45524156701, 'LONGITUD': -75.6896285281, 'TSP16_HOG': 174231, 'STP27_PERS': 509640}\n",
      "{'DPTO_CCDGO': '66', 'DPTO_CNMBR': 'RISARALDA', 'VERSION': 2018, 'AREA': 3556774452.11, 'LATITUD': 5.08334190469, 'LONGITUD': -75.8421455872, 'TSP16_HOG': 277932, 'STP27_PERS': 839597}\n",
      "{'DPTO_CCDGO': '05', 'DPTO_CNMBR': 'ANTIOQUIA', 'VERSION': 2018, 'AREA': 62804708983.4, 'LATITUD': 6.92279636379, 'LONGITUD': -75.5649877185, 'TSP16_HOG': 1983566, 'STP27_PERS': 5974788}\n",
      "{'DPTO_CCDGO': '27', 'DPTO_CNMBR': 'CHOCÓ', 'VERSION': 2018, 'AREA': 48353219113.7, 'LATITUD': 5.94633604071, 'LONGITUD': -76.9357251533, 'TSP16_HOG': 133687, 'STP27_PERS': 457412}\n",
      "{'DPTO_CCDGO': '52', 'DPTO_CNMBR': 'NARIÑO', 'VERSION': 2018, 'AREA': 31497572565.8, 'LATITUD': 1.57109496562, 'LONGITUD': -77.8702053187, 'TSP16_HOG': 449275, 'STP27_PERS': 1335521}\n",
      "{'DPTO_CCDGO': '23', 'DPTO_CNMBR': 'CÓRDOBA', 'VERSION': 2018, 'AREA': 25086546965.5, 'LATITUD': 8.35854975369, 'LONGITUD': -75.7920087177, 'TSP16_HOG': 466615, 'STP27_PERS': 1555596}\n",
      "{'DPTO_CCDGO': '13', 'DPTO_CNMBR': 'BOLÍVAR', 'VERSION': 2018, 'AREA': 26719196397.4, 'LATITUD': 8.74527083422, 'LONGITUD': -74.5086433081, 'TSP16_HOG': 542694, 'STP27_PERS': 1909460}\n",
      "{'DPTO_CCDGO': '20', 'DPTO_CNMBR': 'CESAR', 'VERSION': 2018, 'AREA': 22562344406.8, 'LATITUD': 9.53665993045, 'LONGITUD': -73.5178315439, 'TSP16_HOG': 316717, 'STP27_PERS': 1098577}\n",
      "{'DPTO_CCDGO': '44', 'DPTO_CNMBR': 'LA GUAJIRA', 'VERSION': 2018, 'AREA': 20621960347.5, 'LATITUD': 11.4768700772, 'LONGITUD': -72.429510724, 'TSP16_HOG': 227367, 'STP27_PERS': 825364}\n",
      "{'DPTO_CCDGO': '47', 'DPTO_CNMBR': 'MAGDALENA', 'VERSION': 2018, 'AREA': 23135938695.5, 'LATITUD': 10.2473835504, 'LONGITUD': -74.2617573304, 'TSP16_HOG': 343790, 'STP27_PERS': 1263788}\n",
      "{'DPTO_CCDGO': '70', 'DPTO_CNMBR': 'SUCRE', 'VERSION': 2018, 'AREA': 10591845935.5, 'LATITUD': 9.06494144826, 'LONGITUD': -75.1098175515, 'TSP16_HOG': 240068, 'STP27_PERS': 864036}\n",
      "{'DPTO_CCDGO': '88', 'DPTO_CNMBR': 'ARCHIPIÉLAGO DE SAN ANDRÉS, PROVIDENCIA Y SANTA CATALINA', 'VERSION': 2018, 'AREA': 49424251.1898, 'LATITUD': 12.909383044, 'LONGITUD': -81.5622282664, 'TSP16_HOG': 16354, 'STP27_PERS': 48299}\n",
      "{'DPTO_CCDGO': '81', 'DPTO_CNMBR': 'ARAUCA', 'VERSION': 2018, 'AREA': 23851257173.7, 'LATITUD': 6.56957721452, 'LONGITUD': -70.9673239375, 'TSP16_HOG': 75261, 'STP27_PERS': 239503}\n",
      "{'DPTO_CCDGO': '15', 'DPTO_CNMBR': 'BOYACÁ', 'VERSION': 2018, 'AREA': 23138048132, 'LATITUD': 5.77660720163, 'LONGITUD': -73.1020732412, 'TSP16_HOG': 381868, 'STP27_PERS': 1135698}\n",
      "{'DPTO_CCDGO': '25', 'DPTO_CNMBR': 'CUNDINAMARCA', 'VERSION': 2018, 'AREA': 22370488731.5, 'LATITUD': 4.82397585915, 'LONGITUD': -74.0977394121, 'TSP16_HOG': 945586, 'STP27_PERS': 2792877}\n",
      "{'DPTO_CCDGO': '54', 'DPTO_CNMBR': 'NORTE DE SANTANDER', 'VERSION': 2018, 'AREA': 21856754452.7, 'LATITUD': 8.09513750976, 'LONGITUD': -72.8818829687, 'TSP16_HOG': 398300, 'STP27_PERS': 1346806}\n",
      "{'DPTO_CCDGO': '11', 'DPTO_CNMBR': 'BOGOTÁ, D.C.', 'VERSION': 2018, 'AREA': 1622852604.69, 'LATITUD': 4.31610769809, 'LONGITUD': -74.1810727016, 'TSP16_HOG': 2514482, 'STP27_PERS': 7181469}\n",
      "{'DPTO_CCDGO': '50', 'DPTO_CNMBR': 'META', 'VERSION': 2018, 'AREA': 85527289733.2, 'LATITUD': 3.34556273243, 'LONGITUD': -72.9564598804, 'TSP16_HOG': 304244, 'STP27_PERS': 919129}\n",
      "{'DPTO_CCDGO': '41', 'DPTO_CNMBR': 'HUILA', 'VERSION': 2018, 'AREA': 18141660548.4, 'LATITUD': 2.57014302865, 'LONGITUD': -75.5843483635, 'TSP16_HOG': 319750, 'STP27_PERS': 1009548}\n",
      "{'DPTO_CCDGO': '68', 'DPTO_CNMBR': 'SANTANDER', 'VERSION': 2018, 'AREA': 30561497859.3, 'LATITUD': 6.69363318357, 'LONGITUD': -73.4860089377, 'TSP16_HOG': 647157, 'STP27_PERS': 2008841}\n",
      "{'DPTO_CCDGO': '73', 'DPTO_CNMBR': 'TOLIMA', 'VERSION': 2018, 'AREA': 24139401234.5, 'LATITUD': 4.03477252005, 'LONGITUD': -75.2558270947, 'TSP16_HOG': 423353, 'STP27_PERS': 1228763}\n",
      "{'DPTO_CCDGO': '08', 'DPTO_CNMBR': 'ATLÁNTICO', 'VERSION': 2018, 'AREA': 3315752105.07, 'LATITUD': 10.6770095342, 'LONGITUD': -74.9652194915, 'TSP16_HOG': 625123, 'STP27_PERS': 2342265}\n"
     ]
    }
   ],
   "source": [
    "for department in map_json['objects']['MGN_ANM_DPTOS']['geometries']:\n",
    "    print(department['properties'])"
   ]
  },
  {
   "cell_type": "markdown",
   "metadata": {},
   "source": [
    "## 3. Departaments\n",
    "\n",
    "We define a function to remove the town's key from the JSON structure or dictionary."
   ]
  },
  {
   "cell_type": "code",
   "execution_count": 6,
   "metadata": {},
   "outputs": [],
   "source": [
    "def delete_nested_key(data, parent_key, key_to_delete):\n",
    "    \"\"\"\n",
    "    This function deletes a nested key from a dictionary.\n",
    "\n",
    "    Args:\n",
    "        data: JSON structure\n",
    "        parent_key: parent key\n",
    "        key_to_delete: nested key\n",
    "\n",
    "    Returns:\n",
    "        Dictionary without the towns' key and its value     \n",
    "    \"\"\"\n",
    "    \n",
    "    if parent_key in data and key_to_delete in data[parent_key]:\n",
    "        del data[parent_key][key_to_delete]\n",
    "\n",
    "    return data"
   ]
  },
  {
   "cell_type": "code",
   "execution_count": 7,
   "metadata": {},
   "outputs": [],
   "source": [
    "parent_key = 'objects'\n",
    "key_to_delete = 'MGN_ANM_MPIOS'\n",
    "map_json = delete_nested_key(map_json, parent_key, key_to_delete)"
   ]
  },
  {
   "cell_type": "markdown",
   "metadata": {},
   "source": [
    "We change the type of the department codes from $str$ to $int$ so that Power BI can relate them to the data (When loading the DIVIPOLA codes into Power BI, Power BI automatically casts them into numbers)."
   ]
  },
  {
   "cell_type": "code",
   "execution_count": 8,
   "metadata": {},
   "outputs": [],
   "source": [
    "for department in map_json['objects']['MGN_ANM_DPTOS']['geometries']:\n",
    "    department['properties']['DPTO_CCDGO'] = int(department['properties']['DPTO_CCDGO'])"
   ]
  },
  {
   "cell_type": "markdown",
   "metadata": {},
   "source": [
    "We save the data."
   ]
  },
  {
   "cell_type": "code",
   "execution_count": 9,
   "metadata": {},
   "outputs": [],
   "source": [
    "output_file = 'mapa_departamentos.json'\n",
    "with open(output_file, 'w') as file:\n",
    "    json.dump(map_json, file)"
   ]
  },
  {
   "cell_type": "markdown",
   "metadata": {},
   "source": [
    "## 4. Towns\n",
    "\n",
    "We can do something similar for towns:\n",
    "\n",
    "```python\n",
    "with open(json_file, 'r') as file:\n",
    "    map_json = json.load(file)\n",
    "\n",
    "# We delete the departments\n",
    "parent_key = 'objects'\n",
    "key_to_delete = 'MGN_ANM_DPTOS'\n",
    "map_json = delete_nested_key(map_json, parent_key, key_to_delete)\n",
    "\n",
    "# We cast the towns' codes\n",
    "for town in map_json['objects']['MGN_ANM_MPIOS']['geometries']:\n",
    "    town['properties']['MPIO_CDPMP'] = int(town['properties']['MPIO_CDPMP'])\n",
    "\n",
    "# We save the data\n",
    "output_file = 'mapa_municipios.json'\n",
    "with open(output_file, 'w') as file:\n",
    "    json.dump(map_json, file)\n",
    "```"
   ]
  },
  {
   "cell_type": "markdown",
   "metadata": {},
   "source": [
    "## Additional sources\n",
    "\n",
    "Some additional sources I checked were:\n",
    "\n",
    "- [John Guerra's forum on GeoJSON map of Colombia](https://gist.github.com/john-guerra/43c7656821069d00dcbc)\n",
    "- [Ayuda - Creación de mapa de municipios de Colombia](https://community.fabric.microsoft.com/t5/Translated-Spanish-Desktop/Ayuda-Creaci%c3%b3n-de-mapa-municipios-Colombia/td-p/2901751)\n",
    "- [Creating custom shape map json file](https://community.fabric.microsoft.com/t5/Desktop/Creating-custom-shape-map-json-file/td-p/1910576)\n",
    "- [Create Shape Map visualizations in Power BI Desktop (preview)](https://learn.microsoft.com/en-us/power-bi/visuals/desktop-shape-map)"
   ]
  },
  {
   "cell_type": "code",
   "execution_count": null,
   "metadata": {},
   "outputs": [],
   "source": []
  }
 ],
 "metadata": {
  "kernelspec": {
   "display_name": "Python 3",
   "language": "python",
   "name": "python3"
  },
  "language_info": {
   "codemirror_mode": {
    "name": "ipython",
    "version": 3
   },
   "file_extension": ".py",
   "mimetype": "text/x-python",
   "name": "python",
   "nbconvert_exporter": "python",
   "pygments_lexer": "ipython3",
   "version": "3.10.12"
  },
  "orig_nbformat": 4
 },
 "nbformat": 4,
 "nbformat_minor": 2
}
